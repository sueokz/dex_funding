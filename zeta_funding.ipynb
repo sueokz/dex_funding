{
 "cells": [
  {
   "cell_type": "code",
   "execution_count": 41,
   "id": "d570c4b5-886a-467d-b5f9-657de2e8c6ec",
   "metadata": {},
   "outputs": [],
   "source": [
    "from selenium import webdriver\n",
    "from selenium.webdriver.chrome.service import Service\n",
    "import time\n",
    "from selenium.webdriver.common.by import By"
   ]
  },
  {
   "cell_type": "code",
   "execution_count": 42,
   "id": "5a7ad0f6-568d-4b16-abf2-bea553614136",
   "metadata": {},
   "outputs": [],
   "source": [
    "service = Service(executable_path=\"chromedriver.exe\")\n",
    "driver= webdriver.Chrome(service=service)\n",
    "driver.get(\"https://dex.zeta.markets/trade/SOL-PERP\")\n",
    "time.sleep(2)"
   ]
  },
  {
   "cell_type": "code",
   "execution_count": 43,
   "id": "a2223c9b-a678-4ebb-bded-84727744e529",
   "metadata": {},
   "outputs": [],
   "source": [
    "obj=driver.find_element(By.CLASS_NAME,\"FundingRatesContainer-sc-hzw91n-5\")"
   ]
  },
  {
   "cell_type": "code",
   "execution_count": 44,
   "id": "7e27ee40-213c-404f-8f9b-0730431b19b3",
   "metadata": {},
   "outputs": [
    {
     "name": "stdout",
     "output_type": "stream",
     "text": [
      "+0.02813%\n",
      "/\n",
      "+246.44%\n"
     ]
    }
   ],
   "source": [
    "print(obj.text)"
   ]
  },
  {
   "cell_type": "code",
   "execution_count": 45,
   "id": "7a956630-da29-4a9c-a713-bbe639103dad",
   "metadata": {},
   "outputs": [
    {
     "name": "stdout",
     "output_type": "stream",
     "text": [
      "+0.02813%\n",
      "+246.44%\n"
     ]
    }
   ],
   "source": [
    "import re\n",
    "\n",
    "# obj.textから正規表現を用いて目的の部分を抽出\n",
    "matches = re.findall(r'\\+[\\d.]+%', obj.text)\n",
    "\n",
    "# 抽出された結果を表示\n",
    "for match in matches:\n",
    "    print(match)"
   ]
  },
  {
   "cell_type": "code",
   "execution_count": 46,
   "id": "adaa8833-055d-4e2b-be47-28f538b289ba",
   "metadata": {
    "tags": []
   },
   "outputs": [
    {
     "name": "stdout",
     "output_type": "stream",
     "text": [
      "0.02813\n"
     ]
    }
   ],
   "source": [
    "# obj.textから正規表現を用いて目的の部分を抽出\n",
    "matches = re.findall(r'\\+([\\d.]+)%', obj.text)\n",
    "\n",
    "# 抽出された結果を数値化して表示（最初の要素のみ）\n",
    "if matches:\n",
    "    first_numeric_value = float(matches[0])\n",
    "    print(first_numeric_value)"
   ]
  },
  {
   "cell_type": "code",
   "execution_count": 47,
   "id": "f57cc1f3-dc11-4240-afd8-5f7a5d6fb7f8",
   "metadata": {},
   "outputs": [],
   "source": [
    "# LINE Notifyのアクセストークンを指定(まだ有効)\n",
    "#line_notify_token = \"mqScpXdKgRHnaDLTP3CwuOJQJMOuA36CnO263Rl8pwW\"\n",
    "\n",
    "\n",
    "#LINEに送信\n",
    "import requests\n",
    "\n",
    "# LINE Notifyのアクセストークンを指定\n",
    "token = \"\""
   ]
  },
  {
   "cell_type": "code",
   "execution_count": 48,
   "id": "d3118983-5817-4459-b1c3-baf467b99c9d",
   "metadata": {},
   "outputs": [
    {
     "name": "stdout",
     "output_type": "stream",
     "text": [
      "Funding Rateが大きく+の状態です。\n"
     ]
    }
   ],
   "source": [
    "# funding rateが+0.01%以下\n",
    "if first_numeric_value < 0.01:\n",
    "    message = f\"Funding Rate: {first_numeric_value}%\"\n",
    "    headers = {\n",
    "        \"Authorization\": f\"Bearer {token}\",\n",
    "        \"Content-Type\": \"application/x-www-form-urlencoded\"\n",
    "    }\n",
    "    payload = {\"message\": message}\n",
    "    r = requests.post(\"https://notify-api.line.me/api/notify\", headers=headers, params=payload)\n",
    "    if r.status_code == 200:\n",
    "        print(\"LINEに通知しました。\")\n",
    "    else:\n",
    "        print(\"LINEに通知できませんでした。\")\n",
    "else:\n",
    "    print(\"Funding Rateが大きく+の状態です。\")"
   ]
  },
  {
   "cell_type": "code",
   "execution_count": null,
   "id": "ad134a71-3c5c-4ba2-a862-baa6034a02f1",
   "metadata": {},
   "outputs": [],
   "source": []
  },
  {
   "cell_type": "code",
   "execution_count": null,
   "id": "6bbb245a-b81a-4800-a502-18a2ea6d2413",
   "metadata": {},
   "outputs": [],
   "source": [
    "#全文"
   ]
  },
  {
   "cell_type": "code",
   "execution_count": 49,
   "id": "bb3ebe87-7dbb-4b76-af6c-c3ca9e7ea91a",
   "metadata": {},
   "outputs": [
    {
     "name": "stdout",
     "output_type": "stream",
     "text": [
      "+0.02814%\n",
      "/\n",
      "+246.52%\n",
      "+0.02814%\n",
      "+246.52%\n",
      "0.02814\n",
      "Funding Rateが大きく+の状態です。\n"
     ]
    }
   ],
   "source": [
    "from selenium import webdriver\n",
    "from selenium.webdriver.chrome.service import Service\n",
    "import time\n",
    "from selenium.webdriver.common.by import By\n",
    "\n",
    "service = Service(executable_path=\"chromedriver.exe\")\n",
    "driver= webdriver.Chrome(service=service)\n",
    "driver.get(\"https://dex.zeta.markets/trade/SOL-PERP\")\n",
    "time.sleep(2)\n",
    "\n",
    "obj=driver.find_element(By.CLASS_NAME,\"FundingRatesContainer-sc-hzw91n-5\")\n",
    "print(obj.text)\n",
    "\n",
    "import re\n",
    "# obj.textから正規表現を用いて目的の部分を抽出\n",
    "matches = re.findall(r'\\+[\\d.]+%', obj.text)\n",
    "\n",
    "# 抽出された結果を表示\n",
    "for match in matches:\n",
    "    print(match)\n",
    "\n",
    "# obj.textから正規表現を用いて目的の部分を抽出\n",
    "matches = re.findall(r'\\+([\\d.]+)%', obj.text)\n",
    "\n",
    "# 抽出された結果を数値化して表示（最初の要素のみ）\n",
    "if matches:\n",
    "    first_numeric_value = float(matches[0])\n",
    "    print(first_numeric_value)\n",
    "    \n",
    "    \n",
    "# LINE Notifyのアクセストークンを指定(まだ有効)\n",
    "#line_notify_token = \"mqScpXdKgRHnaDLTP3CwuOJQJMOuA36CnO263Rl8pwW\"\n",
    "\n",
    "#LINEに送信\n",
    "import requests\n",
    "\n",
    "# LINE Notifyのアクセストークンを指定\n",
    "token = \"\"\n",
    "\n",
    "# funding rateが+0.01%以下\n",
    "if first_numeric_value < 0.01:\n",
    "    message = f\"Funding Rate: {first_numeric_value}%\"\n",
    "    headers = {\n",
    "        \"Authorization\": f\"Bearer {token}\",\n",
    "        \"Content-Type\": \"application/x-www-form-urlencoded\"\n",
    "    }\n",
    "    payload = {\"message\": message}\n",
    "    r = requests.post(\"https://notify-api.line.me/api/notify\", headers=headers, params=payload)\n",
    "    if r.status_code == 200:\n",
    "        print(\"LINEに通知しました。\")\n",
    "    else:\n",
    "        print(\"LINEに通知できませんでした。\")\n",
    "else:\n",
    "    print(\"Funding Rateが大きく+の状態です。\")"
   ]
  },
  {
   "cell_type": "code",
   "execution_count": null,
   "id": "64ed03dd-7f87-4458-9e48-0c3e35cb6c32",
   "metadata": {},
   "outputs": [],
   "source": []
  }
 ],
 "metadata": {
  "kernelspec": {
   "display_name": "Python 3",
   "language": "python",
   "name": "python3"
  },
  "language_info": {
   "codemirror_mode": {
    "name": "ipython",
    "version": 3
   },
   "file_extension": ".py",
   "mimetype": "text/x-python",
   "name": "python",
   "nbconvert_exporter": "python",
   "pygments_lexer": "ipython3",
   "version": "3.8.8"
  }
 },
 "nbformat": 4,
 "nbformat_minor": 5
}
